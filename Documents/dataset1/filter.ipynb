{
 "cells": [
  {
   "cell_type": "code",
   "execution_count": 41,
   "metadata": {},
   "outputs": [],
   "source": [
    "import pandas as pd\n",
    "\n",
    "# Read the JSON file into a DataFrame\n",
    "json_file = 'output.json'\n",
    "json_df = pd.read_json(json_file)\n",
    "json_df1 =json_df.drop(columns=['motto','invest_date', 'value_invest'])\n",
    "\n",
    "\n",
    "json_df1['emailAddress'] = json_df1['emailAddresses'].apply(lambda x: x[0]['contactString'] if x else None)\n",
    "\n",
    "# Drop the 'emailAddresses' column if needed\n",
    "json_df1.drop(columns=['emailAddresses'], inplace=True)\n",
    "json_df1['employee_categories'] = json_df1['employee_categories'].apply(lambda x: [item['category'] for item in x])\n",
    "json_df1['phoneNumbers'] = json_df1['phoneNumbers'].apply(lambda x:[item['digits'] for item in x]if isinstance(x, list) else [])\n",
    "# json_df1['phoneNumbers'] = json_df1['phoneNumbers'].str.replace(r'\\D', '').astype(float)\n",
    "json_df1.dropna(inplace=True)\n",
    "\n",
    "\n",
    "\n",
    "# Save the filtered data to a new JSON file\n",
    "filtered_json_file = 'filtered_output.json'\n",
    "json_df1.to_json(filtered_json_file, orient='records')\n"
   ]
  }
 ],
 "metadata": {
  "kernelspec": {
   "display_name": "Python 3",
   "language": "python",
   "name": "python3"
  },
  "language_info": {
   "codemirror_mode": {
    "name": "ipython",
    "version": 3
   },
   "file_extension": ".py",
   "mimetype": "text/x-python",
   "name": "python",
   "nbconvert_exporter": "python",
   "pygments_lexer": "ipython3",
   "version": "3.11.0"
  }
 },
 "nbformat": 4,
 "nbformat_minor": 2
}
